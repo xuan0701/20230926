{
  "nbformat": 4,
  "nbformat_minor": 0,
  "metadata": {
    "colab": {
      "provenance": []
    },
    "kernelspec": {
      "name": "python3",
      "display_name": "Python 3"
    },
    "language_info": {
      "name": "python"
    }
  },
  "cells": [
    {
      "cell_type": "code",
      "execution_count": null,
      "metadata": {
        "colab": {
          "base_uri": "https://localhost:8080/"
        },
        "id": "muSOobbpmxCe",
        "outputId": "1879e96e-6c50-4873-d587-586643f3a7e8"
      },
      "outputs": [
        {
          "output_type": "stream",
          "name": "stdout",
          "text": [
            "I'm a student\n"
          ]
        }
      ],
      "source": [
        "print(\"I'm a student\")"
      ]
    },
    {
      "cell_type": "code",
      "source": [
        "x1, y1 = float(input(\"請輸入x1\")), float(input(\"請輸入y1\"))\n",
        "x2, y2 = float(input(\"請輸入x2\")), float(input(\"請輸入y2\"))\n",
        "d = ((x1-x2)**2+(y1-y2)**2)**0.5\n",
        "print(d)\n"
      ],
      "metadata": {
        "colab": {
          "base_uri": "https://localhost:8080/"
        },
        "id": "eQEikar3m3hg",
        "outputId": "ac25e7a3-c160-4645-b1b6-f04b0ee1f4ee"
      },
      "execution_count": null,
      "outputs": [
        {
          "output_type": "stream",
          "name": "stdout",
          "text": [
            "請輸入x11\n",
            "請輸入y12\n",
            "請輸入x24\n",
            "請輸入y26\n",
            "5.0\n"
          ]
        }
      ]
    },
    {
      "cell_type": "code",
      "source": [
        "h, w = float(input(\"請輸入身高(公尺)\")), float(input(\"請輸入體重(公斤)\"))\n",
        "h *= h\n",
        "bmi = w/h\n",
        "print(bmi)\n",
        "print(int(bmi<18.5))"
      ],
      "metadata": {
        "colab": {
          "base_uri": "https://localhost:8080/"
        },
        "id": "cni4_F3xqW3n",
        "outputId": "fae62d3e-daf1-4a90-d75e-cdfc31491b0c"
      },
      "execution_count": null,
      "outputs": [
        {
          "output_type": "stream",
          "name": "stdout",
          "text": [
            "請輸入身高(公尺)1.676\n",
            "請輸入體重(公斤)55.5\n",
            "19.758089780759963\n",
            "0\n"
          ]
        }
      ]
    }
  ]
}